{
 "cells": [
  {
   "cell_type": "markdown",
   "metadata": {
    "collapsed": true
   },
   "source": [
    "**Cleaning of Readmissions Data**\n",
    "***\n",
    "The goal of this cleaning is to reduce the data from ratings by facility to ratings by state.<br>\n",
    "The rating by state will be found by finding the average rating for all facilities within a state.<br>\n",
    "Will capture facilities by counting them and adding a coulumn to the final database<br>\n",
    "Each facility can have up to six excessive readmission ratings based on individual measures."
   ]
  },
  {
   "cell_type": "code",
   "execution_count": 12,
   "metadata": {
    "collapsed": true
   },
   "outputs": [],
   "source": [
    "# Importing Necessary Tools\n",
    "import pandas as pd\n",
    "import numpy as np\n",
    "\n",
    "#Pull File Into Database and Set Column Names\n",
    "col = ['hospital_name', 'provider_number', 'state', 'measure', 'discharges','footnote',\n",
    "           'readmission_ratio','predicted_rate','expected_rate','readmissions','starte_date','end_Date']\n",
    "df = pd.read_csv('Readmissions.csv')\n",
    "df.columns=col"
   ]
  },
  {
   "cell_type": "markdown",
   "metadata": {
    "collapsed": true
   },
   "source": [
    "**Initial removal of the following columns:**<br>\n",
    "-  Measure: The observations are to be grouped together on the state level to get the overall state readmission ratio.  Subsequently, rendering this column unneccessary to this analysis.\n",
    "-  Footnote:  Footnotes are associated with a lack of information.  Most of which will be removed in the cleaning process.\n",
    "-  Start_Date:  Does not provide any useful information for this analysis.  Also the same for all rows.\n",
    "-  End_Date: Does not provide any useful information fro this analysis.  Also the same for all rows."
   ]
  },
  {
   "cell_type": "raw",
   "metadata": {},
   "source": [
    "# Removing Columns\n",
    "usecols= ['hospital_name', 'provider_number', 'state','discharges','readmission_ratio',\n",
    "           'predicted_rate','expected_rate','readmissions']\n",
    "df=df[usecols]\n",
    "df.head()"
   ]
  },
  {
   "cell_type": "code",
   "execution_count": 13,
   "metadata": {},
   "outputs": [
    {
     "name": "stdout",
     "output_type": "stream",
     "text": [
      "<class 'pandas.core.frame.DataFrame'>\n",
      "RangeIndex: 19830 entries, 0 to 19829\n",
      "Data columns (total 12 columns):\n",
      "hospital_name        19830 non-null object\n",
      "provider_number      19830 non-null int64\n",
      "state                19830 non-null object\n",
      "measure              19830 non-null object\n",
      "discharges           19830 non-null object\n",
      "footnote             5435 non-null float64\n",
      "readmission_ratio    19830 non-null object\n",
      "predicted_rate       19830 non-null object\n",
      "expected_rate        19830 non-null object\n",
      "readmissions         19830 non-null object\n",
      "starte_date          19830 non-null object\n",
      "end_Date             19830 non-null object\n",
      "dtypes: float64(1), int64(1), object(10)\n",
      "memory usage: 1.8+ MB\n"
     ]
    }
   ],
   "source": [
    "# Explore Data Pre-Clean\n",
    "df.info()"
   ]
  },
  {
   "cell_type": "code",
   "execution_count": 14,
   "metadata": {
    "collapsed": true
   },
   "outputs": [],
   "source": [
    "# Get Hospital Count for Unique Provider Numbers and Readmission Counts By State\n",
    "hospital_count = df.groupby('state').provider_number.nunique()\n",
    "\n"
   ]
  },
  {
   "cell_type": "code",
   "execution_count": 15,
   "metadata": {
    "collapsed": true
   },
   "outputs": [],
   "source": [
    "# Coerce Discharges, Readmission Ratios, Predicted Rates, Expected Rates, and Readmissions to get NaNs\n",
    "tonumeric=['discharges','readmission_ratio','predicted_rate','expected_rate','readmissions']\n",
    "dfa = df[tonumeric].apply(pd.to_numeric, errors='coerce')\n",
    "#Setting up additional columns to concatinate\n",
    "dfb = df[['hospital_name','provider_number','state']]\n"
   ]
  },
  {
   "cell_type": "code",
   "execution_count": 16,
   "metadata": {},
   "outputs": [
    {
     "name": "stdout",
     "output_type": "stream",
     "text": [
      "<class 'pandas.core.frame.DataFrame'>\n",
      "RangeIndex: 19830 entries, 0 to 19829\n",
      "Data columns (total 8 columns):\n",
      "hospital_name        19830 non-null object\n",
      "provider_number      19830 non-null int64\n",
      "state                19830 non-null object\n",
      "discharges           11758 non-null float64\n",
      "readmission_ratio    14411 non-null float64\n",
      "predicted_rate       14411 non-null float64\n",
      "expected_rate        14411 non-null float64\n",
      "readmissions         11638 non-null float64\n",
      "dtypes: float64(5), int64(1), object(2)\n",
      "memory usage: 1.2+ MB\n"
     ]
    }
   ],
   "source": [
    "# Concatenating Data Back Together and Confirming DataFrame Integrity\n",
    "df2= pd.concat([dfb,dfa], axis=1)\n",
    "df2.info()\n"
   ]
  },
  {
   "cell_type": "code",
   "execution_count": 17,
   "metadata": {
    "collapsed": true
   },
   "outputs": [],
   "source": [
    "# Build Dictionary of States and Assign them to 0\n",
    "dictionary ={}\n",
    "for n in df2['state']:\n",
    "    if n in dictionary.keys():\n",
    "        continue\n",
    "    else:\n",
    "        dictionary[n]=0\n",
    "# Count the Number of Excessive Readmissions Per State\n",
    "for x in range(len(df)): \n",
    "    if df2.iloc[x][4]>1:\n",
    "        dictionary[df2.iloc[x][2]] +=1\n"
   ]
  },
  {
   "cell_type": "code",
   "execution_count": 18,
   "metadata": {
    "collapsed": true
   },
   "outputs": [],
   "source": [
    "# Convert Dictionary to DataFrame for Merger\n",
    "data = pd.DataFrame(list(dictionary.items()))\n",
    "data.columns=['state','excessive_count']\n"
   ]
  },
  {
   "cell_type": "code",
   "execution_count": 19,
   "metadata": {
    "collapsed": true
   },
   "outputs": [],
   "source": [
    "# Initializing and Creating New Dataframe To Group By State\n",
    "cleaned= pd.DataFrame(hospital_count)\n",
    "cleaned.columns=['hospital_count']\n",
    "cleaned['readmission_ratio'] = df2.groupby('state').readmission_ratio.mean()\n",
    "cleaned['discharges']= df2.groupby('state').discharges.sum()\n",
    "cleaned['predicted_rate']= df2.groupby('state').predicted_rate.sum()\n",
    "cleaned['expected_rate'] = df2.groupby('state').expected_rate.sum()\n",
    "cleaned['readmissions'] = df2.groupby('state').readmissions.sum()"
   ]
  },
  {
   "cell_type": "code",
   "execution_count": 20,
   "metadata": {
    "collapsed": true
   },
   "outputs": [],
   "source": [
    "# Reset Index to Get State Column \n",
    "cleaned = cleaned.reset_index()\n"
   ]
  },
  {
   "cell_type": "code",
   "execution_count": 21,
   "metadata": {
    "collapsed": true
   },
   "outputs": [],
   "source": [
    "# Merge Excessive Readmission Count with Cleaned DataFrame\n",
    "final = pd.merge(cleaned,data, on='state')"
   ]
  },
  {
   "cell_type": "code",
   "execution_count": 23,
   "metadata": {},
   "outputs": [
    {
     "data": {
      "text/html": [
       "<div>\n",
       "<style>\n",
       "    .dataframe thead tr:only-child th {\n",
       "        text-align: right;\n",
       "    }\n",
       "\n",
       "    .dataframe thead th {\n",
       "        text-align: left;\n",
       "    }\n",
       "\n",
       "    .dataframe tbody tr th {\n",
       "        vertical-align: top;\n",
       "    }\n",
       "</style>\n",
       "<table border=\"1\" class=\"dataframe\">\n",
       "  <thead>\n",
       "    <tr style=\"text-align: right;\">\n",
       "      <th></th>\n",
       "      <th>state</th>\n",
       "      <th>hospital_count</th>\n",
       "      <th>readmission_ratio</th>\n",
       "      <th>discharges</th>\n",
       "      <th>predicted_rate</th>\n",
       "      <th>expected_rate</th>\n",
       "      <th>readmissions</th>\n",
       "      <th>excessive_count</th>\n",
       "    </tr>\n",
       "  </thead>\n",
       "  <tbody>\n",
       "    <tr>\n",
       "      <th>0</th>\n",
       "      <td>AK</td>\n",
       "      <td>8</td>\n",
       "      <td>0.969563</td>\n",
       "      <td>5019.0</td>\n",
       "      <td>530.2</td>\n",
       "      <td>548.7</td>\n",
       "      <td>606.0</td>\n",
       "      <td>11</td>\n",
       "    </tr>\n",
       "    <tr>\n",
       "      <th>1</th>\n",
       "      <td>AL</td>\n",
       "      <td>85</td>\n",
       "      <td>1.017475</td>\n",
       "      <td>95303.0</td>\n",
       "      <td>5351.5</td>\n",
       "      <td>5308.2</td>\n",
       "      <td>15305.0</td>\n",
       "      <td>188</td>\n",
       "    </tr>\n",
       "    <tr>\n",
       "      <th>2</th>\n",
       "      <td>AR</td>\n",
       "      <td>45</td>\n",
       "      <td>1.032275</td>\n",
       "      <td>61703.0</td>\n",
       "      <td>2973.3</td>\n",
       "      <td>2879.7</td>\n",
       "      <td>9965.0</td>\n",
       "      <td>127</td>\n",
       "    </tr>\n",
       "    <tr>\n",
       "      <th>3</th>\n",
       "      <td>AZ</td>\n",
       "      <td>63</td>\n",
       "      <td>0.988116</td>\n",
       "      <td>76353.0</td>\n",
       "      <td>3930.2</td>\n",
       "      <td>3990.3</td>\n",
       "      <td>10290.0</td>\n",
       "      <td>104</td>\n",
       "    </tr>\n",
       "    <tr>\n",
       "      <th>4</th>\n",
       "      <td>CA</td>\n",
       "      <td>297</td>\n",
       "      <td>1.000689</td>\n",
       "      <td>303151.0</td>\n",
       "      <td>19823.2</td>\n",
       "      <td>19733.7</td>\n",
       "      <td>49252.0</td>\n",
       "      <td>580</td>\n",
       "    </tr>\n",
       "  </tbody>\n",
       "</table>\n",
       "</div>"
      ],
      "text/plain": [
       "  state  hospital_count  readmission_ratio  discharges  predicted_rate  \\\n",
       "0    AK               8           0.969563      5019.0           530.2   \n",
       "1    AL              85           1.017475     95303.0          5351.5   \n",
       "2    AR              45           1.032275     61703.0          2973.3   \n",
       "3    AZ              63           0.988116     76353.0          3930.2   \n",
       "4    CA             297           1.000689    303151.0         19823.2   \n",
       "\n",
       "   expected_rate  readmissions  excessive_count  \n",
       "0          548.7         606.0               11  \n",
       "1         5308.2       15305.0              188  \n",
       "2         2879.7        9965.0              127  \n",
       "3         3990.3       10290.0              104  \n",
       "4        19733.7       49252.0              580  "
      ]
     },
     "execution_count": 23,
     "metadata": {},
     "output_type": "execute_result"
    }
   ],
   "source": [
    "# Save and Print Final DataFrame Heading\n",
    "final.to_csv('Readmissions_Cleaned.csv')\n",
    "final.head()"
   ]
  },
  {
   "cell_type": "code",
   "execution_count": null,
   "metadata": {
    "collapsed": true
   },
   "outputs": [],
   "source": []
  }
 ],
 "metadata": {
  "kernelspec": {
   "display_name": "Python 3",
   "language": "python",
   "name": "python3"
  },
  "language_info": {
   "codemirror_mode": {
    "name": "ipython",
    "version": 3
   },
   "file_extension": ".py",
   "mimetype": "text/x-python",
   "name": "python",
   "nbconvert_exporter": "python",
   "pygments_lexer": "ipython3",
   "version": "3.6.3"
  }
 },
 "nbformat": 4,
 "nbformat_minor": 2
}
