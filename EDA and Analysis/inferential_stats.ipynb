{
 "cells": [
  {
   "cell_type": "markdown",
   "metadata": {},
   "source": [
    "## Inferential Statistics Report: Code##\n",
    "***"
   ]
  },
  {
   "cell_type": "code",
   "execution_count": 37,
   "metadata": {},
   "outputs": [],
   "source": [
    "# Importing All the Essential Tools\n",
    "import pandas as pd\n",
    "import numpy as np\n",
    "import matplotlib.pyplot as plt\n",
    "import seaborn as sns\n",
    "from scipy import stats"
   ]
  },
  {
   "cell_type": "code",
   "execution_count": 38,
   "metadata": {},
   "outputs": [],
   "source": [
    "# Importing DataFrame for EDA\n",
    "df = pd.read_csv('readmit_hhc_final.csv', index_col = 0)\n"
   ]
  },
  {
   "cell_type": "code",
   "execution_count": 39,
   "metadata": {
    "collapsed": true
   },
   "outputs": [],
   "source": [
    "#Loading Important EDA Programs\n",
    "def ecdf(data):\n",
    "    \"\"\"takes numpy array data, sorts it and gives x and y values for plotting.\n",
    "    Output is two values, x and y.\"\"\"\n",
    "    # Number of data points:\n",
    "    n = len(data)\n",
    "            \n",
    "    # ECDF x data:\n",
    "    x = np.sort(data)\n",
    "    \n",
    "    # ECDF y data:\n",
    "    y = np.arange(1, n+1)/n\n",
    "    \n",
    "    return x,y"
   ]
  },
  {
   "cell_type": "code",
   "execution_count": 40,
   "metadata": {
    "collapsed": true
   },
   "outputs": [],
   "source": [
    "# From the original EDA Readmission Ratios did not appear to be normally distributed.\n",
    "#  However, let's confirm if they are even close by computing the theoretical CDF\n",
    "mean= np.mean(df.readmission_ratio)\n",
    "std = np.std(df.readmission_ratio)\n",
    "samples = np.random.normal(mean, std, size =10000) \n",
    "x, y =ecdf(df.readmission_ratio)\n",
    "x_theor, y_theor = ecdf(samples)"
   ]
  },
  {
   "cell_type": "code",
   "execution_count": 41,
   "metadata": {},
   "outputs": [
    {
     "data": {
      "image/png": "[encoded data removed]",
      "text/plain": [
       "<matplotlib.figure.Figure at 0x1d2dca6e2e8>"
      ]
     },
     "metadata": {},
     "output_type": "display_data"
    }
   ],
   "source": [
    "# Plot Readmission Ratios to Confirm Normality\n",
    "_ = plt.plot(x_theor,y_theor)\n",
    "_ = plt.plot(x,y,marker='.', linestyle='none')\n",
    "_ = plt.xlabel('Readmission Ratio')\n",
    "_ = plt.ylabel('CDF')\n",
    "plt.show()"
   ]
  },
  {
   "cell_type": "markdown",
   "metadata": {},
   "source": [
    "While not exact, the readmission ratio does appear to mostly follow the normal distribution.  I do not believe we will be making too big of an error by treating it as such."
   ]
  },
  {
   "cell_type": "markdown",
   "metadata": {},
   "source": [
    "***\n",
    "Our inital EDA showed correlations between the following survey reports and the readmission ratio:<br><br>\n",
    "fall risk, flu shot, pnemonia shot, heart failure treatment, improved movement, decreased movement pain, improved wound healing, improved oral rx, hospital admissions, urgent care admissions without hospitalization, and clients recommendation rating.<br><br>\n",
    "Let's go over this data to see if any of these correlations are significant (alpha 0.01)."
   ]
  },
  {
   "cell_type": "code",
   "execution_count": 68,
   "metadata": {},
   "outputs": [
    {
     "name": "stdout",
     "output_type": "stream",
     "text": [
      "fall_risk        : Pearson r:  -0.17  P Value:  0.2276\n",
      "flu_shot         : Pearson r:  -0.53  P Value:  0.0001\n",
      "pneumonia_shot   : Pearson r:  -0.73  P Value:  0.0\n",
      "heart_f_treat    : Pearson r:  -0.15  P Value:  0.2997\n",
      "move_buff        : Pearson r:  0.37   P Value:  0.0078\n",
      "move_pain_debuff : Pearson r:  0.42   P Value:  0.0021\n",
      "healing_buff     : Pearson r:  0.41   P Value:  0.0031\n",
      "oral_rx_buff     : Pearson r:  0.46   P Value:  0.0008\n",
      "hospital_admit   : Pearson r:  0.39   P Value:  0.0042\n",
      "urgent_noadmit   : Pearson r:  -0.43  P Value:  0.0018\n",
      "would_recommend  : Pearson r:  -0.21  P Value:  0.1422\n"
     ]
    }
   ],
   "source": [
    "# Creating List to Iterate Through\n",
    "x_list = ['fall_risk', 'flu_shot', 'pneumonia_shot', 'heart_f_treat', 'move_buff', 'move_pain_debuff',\n",
    "          'healing_buff', 'oral_rx_buff', 'hospital_admit', 'urgent_noadmit','would_recommend']\n",
    "\n",
    "# Iterating Through Dataframe Columns and Printing Correlation Coeffecient and P Value\n",
    "for x in range(len(x_list)):\n",
    "    r,p = stats.pearsonr(df[x_list[x]], df.readmission_ratio)\n",
    "    print(x_list[x].ljust(16),':','Pearson r: ', str(round(r,2)).ljust(5),' P Value: ',round(p,4))"
   ]
  },
  {
   "cell_type": "markdown",
   "metadata": {},
   "source": [
    "From this review we now know that the following survey ratings have a statistically significant correlation to readmission ratios:\n",
    "-   Flu Shot Rating (- Correlation)\n",
    "-   Pneumonia Shot Rating (- Correlation)\n",
    "-   Improved Movement (+ Correlation)\n",
    "-   Decreased Movement Pain (+ Correlation)\n",
    "-   Improved Wound Healing (+ Correlation)\n",
    "-   Oral Rx Improvement (+ Correlation)\n",
    "-   Hospital Admissions (+ Correlation)\n",
    "-   Urgent Care Without Inpaitent Admissions (- Correlation)\n"
   ]
  }
 ],
 "metadata": {
  "kernelspec": {
   "display_name": "Python 3",
   "language": "python",
   "name": "python3"
  },
  "language_info": {
   "codemirror_mode": {
    "name": "ipython",
    "version": 3
   },
   "file_extension": ".py",
   "mimetype": "text/x-python",
   "name": "python",
   "nbconvert_exporter": "python",
   "pygments_lexer": "ipython3",
   "version": "3.6.3"
  }
 },
 "nbformat": 4,
 "nbformat_minor": 2
}
