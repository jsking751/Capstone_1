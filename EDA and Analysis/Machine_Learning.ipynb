{
 "cells": [
  {
   "cell_type": "markdown",
   "metadata": {},
   "source": [
    "## Machine Learning on Hospital Readmission and Home Health Care Quality\n"
   ]
  },
  {
   "cell_type": "markdown",
   "metadata": {},
   "source": [
    "**Choice of Data: **<br>\n",
    "After further review of the nongrouped data, it was determined that there is no other way to combine the Hospital Radmission (Readmit) data with the Home Health Care (HHC) data other than by state.  Future analysis could be done by grouping HHC agencies and hosptials by zipcode or city.  Said data points were available in the HHC data, but not in the Readmit data. <br><br>\n",
    "**Choice of Method:**<br>\n",
    "Unsupervised learning was chosen as the best form of machine learning method to apply.  The probelm we are trying to solve is one that is reviewing connections to predict outcomes rather than label prediction.  As such, unsupervised machine learning was chosen to see if the collected data had any interesting connections they were not obvious through EDA.  My intuition says KMeans may be the best tool for the job as we can tune the hyperparameters for a better model.  However, numerous other methods may be tried as well."
   ]
  },
  {
   "cell_type": "code",
   "execution_count": 189,
   "metadata": {},
   "outputs": [],
   "source": [
    "# Importing Necessary Tools\n",
    "import numpy as np\n",
    "import matplotlib.pyplot as plt\n",
    "import seaborn as sns\n",
    "import pandas as pd\n",
    "from sklearn.cluster import AffinityPropagation, KMeans\n",
    "from sklearn.decomposition import PCA\n",
    "from sklearn.pipeline import make_pipeline\n",
    "from sklearn.preprocessing import StandardScaler, Normalizer"
   ]
  },
  {
   "cell_type": "code",
   "execution_count": 190,
   "metadata": {},
   "outputs": [
    {
     "data": {
      "text/html": [
       "<div>\n",
       "<style>\n",
       "    .dataframe thead tr:only-child th {\n",
       "        text-align: right;\n",
       "    }\n",
       "\n",
       "    .dataframe thead th {\n",
       "        text-align: left;\n",
       "    }\n",
       "\n",
       "    .dataframe tbody tr th {\n",
       "        vertical-align: top;\n",
       "    }\n",
       "</style>\n",
       "<table border=\"1\" class=\"dataframe\">\n",
       "  <thead>\n",
       "    <tr style=\"text-align: right;\">\n",
       "      <th></th>\n",
       "      <th>state</th>\n",
       "      <th>hospital_count</th>\n",
       "      <th>readmission_ratio</th>\n",
       "      <th>discharges</th>\n",
       "      <th>predicted_rate</th>\n",
       "      <th>expected_rate</th>\n",
       "      <th>readmissions</th>\n",
       "      <th>excessive_count</th>\n",
       "      <th>star_rating</th>\n",
       "      <th>timeliness</th>\n",
       "      <th>...</th>\n",
       "      <th>breathing_buff</th>\n",
       "      <th>healing_buff</th>\n",
       "      <th>oral_rx_buff</th>\n",
       "      <th>hospital_admit</th>\n",
       "      <th>urgent_noadmit</th>\n",
       "      <th>pos_prof_report</th>\n",
       "      <th>pos_communicate_report</th>\n",
       "      <th>pos_treatment_ed_report</th>\n",
       "      <th>nine_to_ten_rate</th>\n",
       "      <th>would_recommend</th>\n",
       "    </tr>\n",
       "  </thead>\n",
       "  <tbody>\n",
       "    <tr>\n",
       "      <th>0</th>\n",
       "      <td>AK</td>\n",
       "      <td>8</td>\n",
       "      <td>0.969563</td>\n",
       "      <td>5019.0</td>\n",
       "      <td>530.2</td>\n",
       "      <td>548.7</td>\n",
       "      <td>606.0</td>\n",
       "      <td>11</td>\n",
       "      <td>2.5</td>\n",
       "      <td>76.7</td>\n",
       "      <td>...</td>\n",
       "      <td>58.8</td>\n",
       "      <td>80.4</td>\n",
       "      <td>45.8</td>\n",
       "      <td>14.2</td>\n",
       "      <td>17.3</td>\n",
       "      <td>89</td>\n",
       "      <td>85</td>\n",
       "      <td>81</td>\n",
       "      <td>82</td>\n",
       "      <td>81</td>\n",
       "    </tr>\n",
       "    <tr>\n",
       "      <th>1</th>\n",
       "      <td>AL</td>\n",
       "      <td>85</td>\n",
       "      <td>1.017475</td>\n",
       "      <td>95303.0</td>\n",
       "      <td>5351.5</td>\n",
       "      <td>5308.2</td>\n",
       "      <td>15305.0</td>\n",
       "      <td>188</td>\n",
       "      <td>3.5</td>\n",
       "      <td>94.3</td>\n",
       "      <td>...</td>\n",
       "      <td>74.5</td>\n",
       "      <td>91.3</td>\n",
       "      <td>62.5</td>\n",
       "      <td>17.5</td>\n",
       "      <td>12.2</td>\n",
       "      <td>91</td>\n",
       "      <td>89</td>\n",
       "      <td>87</td>\n",
       "      <td>89</td>\n",
       "      <td>84</td>\n",
       "    </tr>\n",
       "    <tr>\n",
       "      <th>2</th>\n",
       "      <td>AR</td>\n",
       "      <td>45</td>\n",
       "      <td>1.032275</td>\n",
       "      <td>61703.0</td>\n",
       "      <td>2973.3</td>\n",
       "      <td>2879.7</td>\n",
       "      <td>9965.0</td>\n",
       "      <td>127</td>\n",
       "      <td>3.0</td>\n",
       "      <td>94.3</td>\n",
       "      <td>...</td>\n",
       "      <td>71.7</td>\n",
       "      <td>91.8</td>\n",
       "      <td>61.1</td>\n",
       "      <td>17.4</td>\n",
       "      <td>13.4</td>\n",
       "      <td>90</td>\n",
       "      <td>87</td>\n",
       "      <td>86</td>\n",
       "      <td>87</td>\n",
       "      <td>83</td>\n",
       "    </tr>\n",
       "    <tr>\n",
       "      <th>3</th>\n",
       "      <td>AZ</td>\n",
       "      <td>63</td>\n",
       "      <td>0.988116</td>\n",
       "      <td>76353.0</td>\n",
       "      <td>3930.2</td>\n",
       "      <td>3990.3</td>\n",
       "      <td>10290.0</td>\n",
       "      <td>104</td>\n",
       "      <td>3.5</td>\n",
       "      <td>93.4</td>\n",
       "      <td>...</td>\n",
       "      <td>71.3</td>\n",
       "      <td>85.8</td>\n",
       "      <td>55.2</td>\n",
       "      <td>14.9</td>\n",
       "      <td>13.5</td>\n",
       "      <td>87</td>\n",
       "      <td>84</td>\n",
       "      <td>80</td>\n",
       "      <td>81</td>\n",
       "      <td>75</td>\n",
       "    </tr>\n",
       "    <tr>\n",
       "      <th>4</th>\n",
       "      <td>CA</td>\n",
       "      <td>297</td>\n",
       "      <td>1.000689</td>\n",
       "      <td>303151.0</td>\n",
       "      <td>19823.2</td>\n",
       "      <td>19733.7</td>\n",
       "      <td>49252.0</td>\n",
       "      <td>580</td>\n",
       "      <td>3.5</td>\n",
       "      <td>90.3</td>\n",
       "      <td>...</td>\n",
       "      <td>71.9</td>\n",
       "      <td>91.9</td>\n",
       "      <td>55.5</td>\n",
       "      <td>14.8</td>\n",
       "      <td>11.9</td>\n",
       "      <td>85</td>\n",
       "      <td>83</td>\n",
       "      <td>82</td>\n",
       "      <td>80</td>\n",
       "      <td>74</td>\n",
       "    </tr>\n",
       "  </tbody>\n",
       "</table>\n",
       "<p>5 rows × 36 columns</p>\n",
       "</div>"
      ],
      "text/plain": [
       "  state  hospital_count  readmission_ratio  discharges  predicted_rate  \\\n",
       "0    AK               8           0.969563      5019.0           530.2   \n",
       "1    AL              85           1.017475     95303.0          5351.5   \n",
       "2    AR              45           1.032275     61703.0          2973.3   \n",
       "3    AZ              63           0.988116     76353.0          3930.2   \n",
       "4    CA             297           1.000689    303151.0         19823.2   \n",
       "\n",
       "   expected_rate  readmissions  excessive_count  star_rating  timeliness  \\\n",
       "0          548.7         606.0               11          2.5        76.7   \n",
       "1         5308.2       15305.0              188          3.5        94.3   \n",
       "2         2879.7        9965.0              127          3.0        94.3   \n",
       "3         3990.3       10290.0              104          3.5        93.4   \n",
       "4        19733.7       49252.0              580          3.5        90.3   \n",
       "\n",
       "        ...         breathing_buff  healing_buff  oral_rx_buff  \\\n",
       "0       ...                   58.8          80.4          45.8   \n",
       "1       ...                   74.5          91.3          62.5   \n",
       "2       ...                   71.7          91.8          61.1   \n",
       "3       ...                   71.3          85.8          55.2   \n",
       "4       ...                   71.9          91.9          55.5   \n",
       "\n",
       "   hospital_admit  urgent_noadmit  pos_prof_report  pos_communicate_report  \\\n",
       "0            14.2            17.3               89                      85   \n",
       "1            17.5            12.2               91                      89   \n",
       "2            17.4            13.4               90                      87   \n",
       "3            14.9            13.5               87                      84   \n",
       "4            14.8            11.9               85                      83   \n",
       "\n",
       "   pos_treatment_ed_report  nine_to_ten_rate  would_recommend  \n",
       "0                       81                82               81  \n",
       "1                       87                89               84  \n",
       "2                       86                87               83  \n",
       "3                       80                81               75  \n",
       "4                       82                80               74  \n",
       "\n",
       "[5 rows x 36 columns]"
      ]
     },
     "execution_count": 190,
     "metadata": {},
     "output_type": "execute_result"
    }
   ],
   "source": [
    "# Import Cleaned DataFrame\n",
    "df = pd.read_csv('readmit_hhc_final.csv', index_col=0)\n",
    "df.head()"
   ]
  },
  {
   "cell_type": "markdown",
   "metadata": {},
   "source": [
    "Based on previous exploration not shown here, it appears the number of hospitals reviewed in a state and the number of excessive readmissions in a state played a strong role in clustering.  As we are interested in quality ratings and readmission ratios /counts let's remove the following columns:<br>\n",
    "Hospital Count<br>\n",
    "Discharges<br>\n",
    "Predicted Rate<br>\n",
    "Expected Rate<br>\n",
    "Readmissions"
   ]
  },
  {
   "cell_type": "code",
   "execution_count": 191,
   "metadata": {},
   "outputs": [],
   "source": [
    "drop_cols = ['hospital_count','discharges','predicted_rate','expected_rate']\n",
    "for col in drop_cols:\n",
    "    df= df.drop(col, axis=1)"
   ]
  },
  {
   "cell_type": "code",
   "execution_count": 192,
   "metadata": {},
   "outputs": [],
   "source": [
    "# Grab arrays of States and Readmission Ratios for Potential Labels\n",
    "states = np.array(df.state)\n",
    "re_ratio = np.array(df.readmission_ratio)\n",
    "\n",
    "\n",
    "# Create Matrix of Numeric Data\n",
    "matrix = df.drop('state', axis=1)\n",
    "matrix = np.matrix(matrix)"
   ]
  },
  {
   "cell_type": "markdown",
   "metadata": {},
   "source": [
    "There are a lot of dimensions to play with here so I would like to run a PCA variance test to get a good idea on the amount of PCA features.  I will be using the Standard Scaler to scale the features as their ranges vary quite heavily."
   ]
  },
  {
   "cell_type": "code",
   "execution_count": 193,
   "metadata": {},
   "outputs": [
    {
     "data": {
      "image/png": "[encoded data removed]",
      "text/plain": [
       "<matplotlib.figure.Figure at 0x25ed2a018d0>"
      ]
     },
     "metadata": {},
     "output_type": "display_data"
    }
   ],
   "source": [
    "# Initialize model and create pipeline\n",
    "scaler = StandardScaler()\n",
    "pca = PCA()\n",
    "pipeline = make_pipeline(scaler, pca)\n",
    "\n",
    "# Fit martix to pipeline\n",
    "pipeline.fit(matrix)\n",
    "\n",
    "# Plotting the explained variances\n",
    "sns.set()\n",
    "plt.subplots(0,figsize=(8,5))\n",
    "features= range(pca.n_components_)\n",
    "plt.bar(features, pca.explained_variance_)\n",
    "plt.xlabel('PCA Feature')\n",
    "plt.ylabel('Variance')\n",
    "plt.title('Explained Variance of PCA Features')\n",
    "plt.xticks(features, rotation=-15)\n",
    "\n",
    "plt.show()"
   ]
  },
  {
   "cell_type": "markdown",
   "metadata": {},
   "source": [
    "After observing this Explaine Variance Plot, I feel the best feature count to use would be as the explained variance begins to taper off after feature number 4. <br>\n",
    "***\n",
    "Now let's select the hyperparameter K for our KMeans model!"
   ]
  },
  {
   "cell_type": "code",
   "execution_count": 194,
   "metadata": {},
   "outputs": [
    {
     "data": {
      "image/png": "[encoded data removed]",
      "text/plain": [
       "<matplotlib.figure.Figure at 0x25ed132fb00>"
      ]
     },
     "metadata": {},
     "output_type": "display_data"
    }
   ],
   "source": [
    "# Initialize Model into pipeline\n",
    "kmean = KMeans()\n",
    "kmean_pipeline = make_pipeline(scaler,kmean)\n",
    "\n",
    "# Initialize ks to cycle through and inertias to calculate for elbow plot.\n",
    "ks = range(1,15)\n",
    "inertias = []\n",
    "\n",
    "# Iterating through ks and applying inertias to list\n",
    "for k in ks:\n",
    "    model = KMeans(n_clusters = k)\n",
    "    model.fit(matrix)\n",
    "    inertias.append(model.inertia_)\n",
    "\n",
    "# Plotting ks and inertias to create Elbow Plot\n",
    "plt.plot(ks, inertias, '-o')\n",
    "plt.xlabel('Number of Clusters K')\n",
    "plt.ylabel('Inertia')\n",
    "plt.title('Cluster Elbow Plot')\n",
    "plt.xticks(ks)\n",
    "plt.show()\n",
    "    "
   ]
  },
  {
   "cell_type": "markdown",
   "metadata": {},
   "source": [
    "The elbow appears to be located at a K of 2 or 3.  Let's explore more by checking out the cluster counts using this 'best' K."
   ]
  },
  {
   "cell_type": "code",
   "execution_count": 195,
   "metadata": {},
   "outputs": [
    {
     "data": {
      "image/png": "[encoded data removed]",
      "text/plain": [
       "<matplotlib.figure.Figure at 0x25ed2881208>"
      ]
     },
     "metadata": {},
     "output_type": "display_data"
    }
   ],
   "source": [
    "# Create bestK model and update pipeline with bestK\n",
    "bestK = KMeans(n_clusters=3, random_state=42)\n",
    "kmean_pipeline= make_pipeline(scaler, bestK)\n",
    "\n",
    "# Fit Data and add prediction to DataFrame\n",
    "df['cluster'] = kmean_pipeline.fit_predict(matrix)\n",
    "\n",
    "# Create Value Counts DataFrame counting the number of each cluster.  Rename columns for readability.\n",
    "xs = df.cluster.value_counts().reset_index()\n",
    "xs.columns=('cluster','count')\n",
    "\n",
    "# Plot bar plot\n",
    "sns.barplot('cluster', 'count', data=xs, color='b')\n",
    "plt.show()"
   ]
  },
  {
   "cell_type": "markdown",
   "metadata": {},
   "source": [
    "Three clusters appear to be a fairly weak number of clusters.  Let's try 2 clusters!"
   ]
  },
  {
   "cell_type": "code",
   "execution_count": 198,
   "metadata": {},
   "outputs": [
    {
     "data": {
      "image/png": "[encoded data removed]",
      "text/plain": [
       "<matplotlib.figure.Figure at 0x25ed2b56828>"
      ]
     },
     "metadata": {},
     "output_type": "display_data"
    }
   ],
   "source": [
    "# Create bestK model and update pipeline with bestK\n",
    "bestK = KMeans(n_clusters=2, random_state=42)\n",
    "kmean_pipeline= make_pipeline(scaler, bestK)\n",
    "\n",
    "# Fit Data and add prediction to DataFrame\n",
    "df['cluster'] = kmean_pipeline.fit_predict(matrix)\n",
    "\n",
    "# Create Value Counts DataFrame counting the number of each cluster.  Rename columns for readability.\n",
    "xs = df.cluster.value_counts().reset_index()\n",
    "xs.columns=('cluster','count')\n",
    "\n",
    "# Plot bar plot\n",
    "sns.barplot('cluster', 'count', data=xs, color='b')\n",
    "plt.show()"
   ]
  },
  {
   "cell_type": "markdown",
   "metadata": {},
   "source": [
    "Let's set up and plot the clusters using our best number of PCA features!"
   ]
  },
  {
   "cell_type": "code",
   "execution_count": 199,
   "metadata": {},
   "outputs": [
    {
     "data": {
      "text/html": [
       "<div>\n",
       "<style>\n",
       "    .dataframe thead tr:only-child th {\n",
       "        text-align: right;\n",
       "    }\n",
       "\n",
       "    .dataframe thead th {\n",
       "        text-align: left;\n",
       "    }\n",
       "\n",
       "    .dataframe tbody tr th {\n",
       "        vertical-align: top;\n",
       "    }\n",
       "</style>\n",
       "<table border=\"1\" class=\"dataframe\">\n",
       "  <thead>\n",
       "    <tr style=\"text-align: right;\">\n",
       "      <th></th>\n",
       "      <th>cluster</th>\n",
       "      <th>x</th>\n",
       "      <th>y</th>\n",
       "    </tr>\n",
       "  </thead>\n",
       "  <tbody>\n",
       "    <tr>\n",
       "      <th>0</th>\n",
       "      <td>1</td>\n",
       "      <td>9.623950</td>\n",
       "      <td>-5.987501</td>\n",
       "    </tr>\n",
       "    <tr>\n",
       "      <th>1</th>\n",
       "      <td>0</td>\n",
       "      <td>-5.224645</td>\n",
       "      <td>0.550353</td>\n",
       "    </tr>\n",
       "    <tr>\n",
       "      <th>2</th>\n",
       "      <td>0</td>\n",
       "      <td>-3.255849</td>\n",
       "      <td>0.234227</td>\n",
       "    </tr>\n",
       "    <tr>\n",
       "      <th>3</th>\n",
       "      <td>0</td>\n",
       "      <td>1.041767</td>\n",
       "      <td>-0.423682</td>\n",
       "    </tr>\n",
       "    <tr>\n",
       "      <th>4</th>\n",
       "      <td>0</td>\n",
       "      <td>-0.027478</td>\n",
       "      <td>2.233595</td>\n",
       "    </tr>\n",
       "  </tbody>\n",
       "</table>\n",
       "</div>"
      ],
      "text/plain": [
       "   cluster         x         y\n",
       "0        1  9.623950 -5.987501\n",
       "1        0 -5.224645  0.550353\n",
       "2        0 -3.255849  0.234227\n",
       "3        0  1.041767 -0.423682\n",
       "4        0 -0.027478  2.233595"
      ]
     },
     "execution_count": 199,
     "metadata": {},
     "output_type": "execute_result"
    }
   ],
   "source": [
    "# Set PCA to 4 components\n",
    "best_pca = PCA(n_components=4)\n",
    "\n",
    "# Create Best PCA Pipeline\n",
    "pca_pipeline = make_pipeline(scaler, best_pca)\n",
    "\n",
    "# Create x and y columns then pull all columns into new DataFrame\n",
    "df['x'] = pca_pipeline.fit_transform(matrix)[:,0]\n",
    "df['y'] = pca_pipeline.fit_transform(matrix)[:,1]\n",
    "new_df = df[['cluster','x','y']]\n",
    "new_df.head()"
   ]
  },
  {
   "cell_type": "code",
   "execution_count": 200,
   "metadata": {},
   "outputs": [
    {
     "data": {
      "image/png": "[encoded data removed]",
      "text/plain": [
       "<matplotlib.figure.Figure at 0x25ed2a89668>"
      ]
     },
     "metadata": {},
     "output_type": "display_data"
    }
   ],
   "source": [
    "# Plot X and Y data of 5-D PCA Reduced Clusters\n",
    "plt.scatter(new_df.x,new_df.y, c=new_df.cluster, cmap='inferno' )\n",
    "plt.title('2-D PCA Reduced Clusters')\n",
    "plt.show()"
   ]
  },
  {
   "cell_type": "markdown",
   "metadata": {},
   "source": [
    "The black and yellow appear to be fairly distinct from one another."
   ]
  },
  {
   "cell_type": "code",
   "execution_count": 201,
   "metadata": {},
   "outputs": [
    {
     "data": {
      "text/html": [
       "<div>\n",
       "<style>\n",
       "    .dataframe thead tr:only-child th {\n",
       "        text-align: right;\n",
       "    }\n",
       "\n",
       "    .dataframe thead th {\n",
       "        text-align: left;\n",
       "    }\n",
       "\n",
       "    .dataframe tbody tr th {\n",
       "        vertical-align: top;\n",
       "    }\n",
       "</style>\n",
       "<table border=\"1\" class=\"dataframe\">\n",
       "  <thead>\n",
       "    <tr style=\"text-align: right;\">\n",
       "      <th></th>\n",
       "      <th>state</th>\n",
       "      <th>readmission_ratio</th>\n",
       "      <th>readmissions</th>\n",
       "      <th>excessive_count</th>\n",
       "      <th>star_rating</th>\n",
       "      <th>timeliness</th>\n",
       "      <th>rx_ed</th>\n",
       "      <th>fall_risk</th>\n",
       "      <th>depression_check</th>\n",
       "      <th>flu_shot</th>\n",
       "      <th>...</th>\n",
       "      <th>hospital_admit</th>\n",
       "      <th>urgent_noadmit</th>\n",
       "      <th>pos_prof_report</th>\n",
       "      <th>pos_communicate_report</th>\n",
       "      <th>pos_treatment_ed_report</th>\n",
       "      <th>nine_to_ten_rate</th>\n",
       "      <th>would_recommend</th>\n",
       "      <th>cluster</th>\n",
       "      <th>x</th>\n",
       "      <th>y</th>\n",
       "    </tr>\n",
       "  </thead>\n",
       "  <tbody>\n",
       "    <tr>\n",
       "      <th>0</th>\n",
       "      <td>AK</td>\n",
       "      <td>0.969563</td>\n",
       "      <td>606.0</td>\n",
       "      <td>11</td>\n",
       "      <td>2.5</td>\n",
       "      <td>76.7</td>\n",
       "      <td>94.5</td>\n",
       "      <td>99.4</td>\n",
       "      <td>93.9</td>\n",
       "      <td>64.7</td>\n",
       "      <td>...</td>\n",
       "      <td>14.2</td>\n",
       "      <td>17.3</td>\n",
       "      <td>89</td>\n",
       "      <td>85</td>\n",
       "      <td>81</td>\n",
       "      <td>82</td>\n",
       "      <td>81</td>\n",
       "      <td>1</td>\n",
       "      <td>9.623950</td>\n",
       "      <td>-5.987501</td>\n",
       "    </tr>\n",
       "    <tr>\n",
       "      <th>1</th>\n",
       "      <td>AL</td>\n",
       "      <td>1.017475</td>\n",
       "      <td>15305.0</td>\n",
       "      <td>188</td>\n",
       "      <td>3.5</td>\n",
       "      <td>94.3</td>\n",
       "      <td>97.8</td>\n",
       "      <td>99.6</td>\n",
       "      <td>98.4</td>\n",
       "      <td>72.4</td>\n",
       "      <td>...</td>\n",
       "      <td>17.5</td>\n",
       "      <td>12.2</td>\n",
       "      <td>91</td>\n",
       "      <td>89</td>\n",
       "      <td>87</td>\n",
       "      <td>89</td>\n",
       "      <td>84</td>\n",
       "      <td>0</td>\n",
       "      <td>-5.224645</td>\n",
       "      <td>0.550353</td>\n",
       "    </tr>\n",
       "    <tr>\n",
       "      <th>2</th>\n",
       "      <td>AR</td>\n",
       "      <td>1.032275</td>\n",
       "      <td>9965.0</td>\n",
       "      <td>127</td>\n",
       "      <td>3.0</td>\n",
       "      <td>94.3</td>\n",
       "      <td>95.9</td>\n",
       "      <td>99.5</td>\n",
       "      <td>98.6</td>\n",
       "      <td>75.0</td>\n",
       "      <td>...</td>\n",
       "      <td>17.4</td>\n",
       "      <td>13.4</td>\n",
       "      <td>90</td>\n",
       "      <td>87</td>\n",
       "      <td>86</td>\n",
       "      <td>87</td>\n",
       "      <td>83</td>\n",
       "      <td>0</td>\n",
       "      <td>-3.255849</td>\n",
       "      <td>0.234227</td>\n",
       "    </tr>\n",
       "    <tr>\n",
       "      <th>3</th>\n",
       "      <td>AZ</td>\n",
       "      <td>0.988116</td>\n",
       "      <td>10290.0</td>\n",
       "      <td>104</td>\n",
       "      <td>3.5</td>\n",
       "      <td>93.4</td>\n",
       "      <td>96.9</td>\n",
       "      <td>99.4</td>\n",
       "      <td>97.3</td>\n",
       "      <td>74.9</td>\n",
       "      <td>...</td>\n",
       "      <td>14.9</td>\n",
       "      <td>13.5</td>\n",
       "      <td>87</td>\n",
       "      <td>84</td>\n",
       "      <td>80</td>\n",
       "      <td>81</td>\n",
       "      <td>75</td>\n",
       "      <td>0</td>\n",
       "      <td>1.041767</td>\n",
       "      <td>-0.423682</td>\n",
       "    </tr>\n",
       "    <tr>\n",
       "      <th>4</th>\n",
       "      <td>CA</td>\n",
       "      <td>1.000689</td>\n",
       "      <td>49252.0</td>\n",
       "      <td>580</td>\n",
       "      <td>3.5</td>\n",
       "      <td>90.3</td>\n",
       "      <td>97.2</td>\n",
       "      <td>99.1</td>\n",
       "      <td>97.7</td>\n",
       "      <td>73.6</td>\n",
       "      <td>...</td>\n",
       "      <td>14.8</td>\n",
       "      <td>11.9</td>\n",
       "      <td>85</td>\n",
       "      <td>83</td>\n",
       "      <td>82</td>\n",
       "      <td>80</td>\n",
       "      <td>74</td>\n",
       "      <td>0</td>\n",
       "      <td>-0.027478</td>\n",
       "      <td>2.233595</td>\n",
       "    </tr>\n",
       "  </tbody>\n",
       "</table>\n",
       "<p>5 rows × 35 columns</p>\n",
       "</div>"
      ],
      "text/plain": [
       "  state  readmission_ratio  readmissions  excessive_count  star_rating  \\\n",
       "0    AK           0.969563         606.0               11          2.5   \n",
       "1    AL           1.017475       15305.0              188          3.5   \n",
       "2    AR           1.032275        9965.0              127          3.0   \n",
       "3    AZ           0.988116       10290.0              104          3.5   \n",
       "4    CA           1.000689       49252.0              580          3.5   \n",
       "\n",
       "   timeliness  rx_ed  fall_risk  depression_check  flu_shot    ...     \\\n",
       "0        76.7   94.5       99.4              93.9      64.7    ...      \n",
       "1        94.3   97.8       99.6              98.4      72.4    ...      \n",
       "2        94.3   95.9       99.5              98.6      75.0    ...      \n",
       "3        93.4   96.9       99.4              97.3      74.9    ...      \n",
       "4        90.3   97.2       99.1              97.7      73.6    ...      \n",
       "\n",
       "   hospital_admit  urgent_noadmit  pos_prof_report  pos_communicate_report  \\\n",
       "0            14.2            17.3               89                      85   \n",
       "1            17.5            12.2               91                      89   \n",
       "2            17.4            13.4               90                      87   \n",
       "3            14.9            13.5               87                      84   \n",
       "4            14.8            11.9               85                      83   \n",
       "\n",
       "   pos_treatment_ed_report  nine_to_ten_rate  would_recommend  cluster  \\\n",
       "0                       81                82               81        1   \n",
       "1                       87                89               84        0   \n",
       "2                       86                87               83        0   \n",
       "3                       80                81               75        0   \n",
       "4                       82                80               74        0   \n",
       "\n",
       "          x         y  \n",
       "0  9.623950 -5.987501  \n",
       "1 -5.224645  0.550353  \n",
       "2 -3.255849  0.234227  \n",
       "3  1.041767 -0.423682  \n",
       "4 -0.027478  2.233595  \n",
       "\n",
       "[5 rows x 35 columns]"
      ]
     },
     "execution_count": 201,
     "metadata": {},
     "output_type": "execute_result"
    }
   ],
   "source": [
    "df.head()"
   ]
  },
  {
   "cell_type": "code",
   "execution_count": 202,
   "metadata": {},
   "outputs": [
    {
     "data": {
      "text/plain": [
       "cluster  star_rating\n",
       "0        3.5            28\n",
       "         3.0            13\n",
       "1        3.0             9\n",
       "         2.5             1\n",
       "Name: star_rating, dtype: int64"
      ]
     },
     "execution_count": 202,
     "metadata": {},
     "output_type": "execute_result"
    }
   ],
   "source": [
    "# Group by cluster to get counts on Star Rating to see if there is a difference.\n",
    "df.groupby('cluster').star_rating.value_counts()"
   ]
  },
  {
   "cell_type": "code",
   "execution_count": 203,
   "metadata": {},
   "outputs": [
    {
     "data": {
      "text/plain": [
       "cluster  readmission_ratio\n",
       "0        0.914832             1\n",
       "         0.927339             1\n",
       "         0.931067             1\n",
       "         0.932066             1\n",
       "         0.949882             1\n",
       "         0.951322             1\n",
       "         0.953858             1\n",
       "         0.954463             1\n",
       "         0.955349             1\n",
       "         0.965708             1\n",
       "         0.972196             1\n",
       "         0.974291             1\n",
       "         0.979488             1\n",
       "         0.979649             1\n",
       "         0.988116             1\n",
       "         0.996701             1\n",
       "         0.996822             1\n",
       "         0.997332             1\n",
       "         0.998982             1\n",
       "         0.999401             1\n",
       "         1.000689             1\n",
       "         1.002759             1\n",
       "         1.003394             1\n",
       "         1.003798             1\n",
       "         1.003899             1\n",
       "         1.007372             1\n",
       "         1.009932             1\n",
       "         1.010657             1\n",
       "         1.012553             1\n",
       "         1.015363             1\n",
       "         1.017454             1\n",
       "         1.017475             1\n",
       "         1.024625             1\n",
       "         1.028059             1\n",
       "         1.030456             1\n",
       "         1.030460             1\n",
       "         1.032275             1\n",
       "         1.032306             1\n",
       "         1.032694             1\n",
       "         1.036762             1\n",
       "         1.038283             1\n",
       "1        0.961794             1\n",
       "         0.963542             1\n",
       "         0.965423             1\n",
       "         0.969563             1\n",
       "         0.981923             1\n",
       "         0.989352             1\n",
       "         0.990998             1\n",
       "         0.994317             1\n",
       "         1.008910             1\n",
       "         1.037523             1\n",
       "Name: readmission_ratio, dtype: int64"
      ]
     },
     "execution_count": 203,
     "metadata": {},
     "output_type": "execute_result"
    }
   ],
   "source": [
    "df.groupby('cluster').readmission_ratio.value_counts()"
   ]
  },
  {
   "cell_type": "code",
   "execution_count": 206,
   "metadata": {},
   "outputs": [
    {
     "data": {
      "text/plain": [
       "cluster  flu_shot\n",
       "0        76.8        3\n",
       "         73.3        2\n",
       "         74.2        2\n",
       "         74.9        2\n",
       "         76.3        2\n",
       "         76.4        2\n",
       "         77.8        2\n",
       "         78.5        2\n",
       "         63.9        1\n",
       "         64.9        1\n",
       "         67.2        1\n",
       "         68.9        1\n",
       "         70.3        1\n",
       "         70.9        1\n",
       "         71.8        1\n",
       "         72.2        1\n",
       "         72.4        1\n",
       "         72.8        1\n",
       "         72.9        1\n",
       "         73.6        1\n",
       "         74.3        1\n",
       "         75.0        1\n",
       "         75.5        1\n",
       "         76.2        1\n",
       "         76.6        1\n",
       "         77.9        1\n",
       "         79.0        1\n",
       "         79.1        1\n",
       "         79.6        1\n",
       "         81.0        1\n",
       "         81.9        1\n",
       "         83.1        1\n",
       "1        75.5        2\n",
       "         64.7        1\n",
       "         69.2        1\n",
       "         69.4        1\n",
       "         69.6        1\n",
       "         70.8        1\n",
       "         71.7        1\n",
       "         78.0        1\n",
       "         78.9        1\n",
       "Name: flu_shot, dtype: int64"
      ]
     },
     "execution_count": 206,
     "metadata": {},
     "output_type": "execute_result"
    }
   ],
   "source": [
    "df.groupby('cluster').flu_shot.value_counts()"
   ]
  },
  {
   "cell_type": "markdown",
   "metadata": {},
   "source": [
    "Overall it's fairly difficult to tell how these clusters are separated by individual numbers.  It might be a good ideal to round them into groups ie. 1 or 0 to indicate excessive readmission ratio, or 60-65, 65-70 ect. for the quality ratings measures."
   ]
  },
  {
   "cell_type": "code",
   "execution_count": null,
   "metadata": {
    "collapsed": true
   },
   "outputs": [],
   "source": []
  }
 ],
 "metadata": {
  "kernelspec": {
   "display_name": "Python 3",
   "language": "python",
   "name": "python3"
  },
  "language_info": {
   "codemirror_mode": {
    "name": "ipython",
    "version": 3
   },
   "file_extension": ".py",
   "mimetype": "text/x-python",
   "name": "python",
   "nbconvert_exporter": "python",
   "pygments_lexer": "ipython3",
   "version": "3.6.3"
  }
 },
 "nbformat": 4,
 "nbformat_minor": 2
}
